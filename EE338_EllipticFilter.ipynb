{
 "cells": [
  {
   "cell_type": "code",
   "execution_count": 28,
   "metadata": {},
   "outputs": [
    {
     "name": "stdout",
     "output_type": "stream",
     "text": [
      "(2.0194352866533007, 2.3565511247841026e-10)\n"
     ]
    }
   ],
   "source": [
    "from numpy import sqrt, sin, cos, pi\n",
    "from scipy.integrate import quad\n",
    "def integrand(x, k):\n",
    "    p = sqrt(1 - (k*sin(x))**2)\n",
    "    return 1/p\n",
    "k = 0.8120\n",
    "K = quad(integrand, 0, pi/2, args=(k))\n",
    "print(K)"
   ]
  },
  {
   "cell_type": "code",
   "execution_count": 36,
   "metadata": {},
   "outputs": [
    {
     "name": "stdout",
     "output_type": "stream",
     "text": [
      "(1.7439676150742902, 1.9361930004560994e-14)\n"
     ]
    }
   ],
   "source": [
    "from numpy import sqrt, sin, cos, pi\n",
    "from scipy.integrate import quad\n",
    "def integrand(x, k):\n",
    "    p = sqrt(1 - (1-k**2)*(sin(x)**2))\n",
    "    return 1/p\n",
    "k = 0.8066\n",
    "k1 = sqrt(1 - k**2)\n",
    "K11 = quad(integrand, 0, pi/2, args=(k))\n",
    "print(K11)"
   ]
  },
  {
   "cell_type": "markdown",
   "metadata": {},
   "source": [
    "From the above equations, we get"
   ]
  },
  {
   "cell_type": "code",
   "execution_count": 30,
   "metadata": {},
   "outputs": [],
   "source": [
    "K = 2.0194"
   ]
  },
  {
   "cell_type": "code",
   "execution_count": 31,
   "metadata": {},
   "outputs": [],
   "source": [
    "K_dash = 1.7384"
   ]
  },
  {
   "cell_type": "code",
   "execution_count": 32,
   "metadata": {},
   "outputs": [],
   "source": [
    "K1 = 1.5743"
   ]
  },
  {
   "cell_type": "code",
   "execution_count": 33,
   "metadata": {},
   "outputs": [],
   "source": [
    "K1_dash = 3.7566"
   ]
  },
  {
   "cell_type": "code",
   "execution_count": 34,
   "metadata": {},
   "outputs": [],
   "source": [
    "N = (K*K1_dash)/(K1*K_dash)"
   ]
  },
  {
   "cell_type": "code",
   "execution_count": 35,
   "metadata": {},
   "outputs": [
    {
     "data": {
      "text/plain": [
       "2.7719162044247367"
      ]
     },
     "execution_count": 35,
     "metadata": {},
     "output_type": "execute_result"
    }
   ],
   "source": [
    "N"
   ]
  }
 ],
 "metadata": {
  "kernelspec": {
   "display_name": "Python 3",
   "language": "python",
   "name": "python3"
  },
  "language_info": {
   "codemirror_mode": {
    "name": "ipython",
    "version": 3
   },
   "file_extension": ".py",
   "mimetype": "text/x-python",
   "name": "python",
   "nbconvert_exporter": "python",
   "pygments_lexer": "ipython3",
   "version": "3.8.3"
  }
 },
 "nbformat": 4,
 "nbformat_minor": 4
}
